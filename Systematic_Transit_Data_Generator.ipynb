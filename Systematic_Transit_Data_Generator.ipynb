{
 "cells": [
  {
   "cell_type": "code",
   "execution_count": 36,
   "metadata": {
    "collapsed": false
   },
   "outputs": [
    {
     "name": "stdout",
     "output_type": "stream",
     "text": [
      "[0.     0.7854 1.5708]\n",
      "[-0.9    -0.6375 -0.375   0.375   0.6375  0.9   ]\n"
     ]
    }
   ],
   "source": [
    "import matplotlib.pyplot as plt\n",
    "import numpy as np\n",
    "import math\n",
    "import pandas as pd\n",
    "\n",
    "# Number of transits and points per transit\n",
    "number_of_transits = 3  # You can change this to the desired number of transits\n",
    "\n",
    "impact_factor_1 = 0\n",
    "impact_factor_2 = 0.25\n",
    "\n",
    "angle_degrees = [0, 45, 90]\n",
    "angle_radians = []\n",
    "for angle in angle_degrees:\n",
    "    radian_angle = math.radians(angle)\n",
    "    angle_radians.append(radian_angle)\n",
    "angle_radians = np.round(angle_radians, 4)\n",
    "\n",
    "x_coords_zero_pos = np.array([0.375, 0.6375, 0.9])\n",
    "x_coords_zero_neg = -np.flip(x_coords_zero_pos)\n",
    "x_coords_zero = np.concatenate((x_coords_zero_neg, x_coords_zero_pos))\n",
    "y_coords_zero = np.zeros(6)\n",
    "y_coords_offset = [-0.25, -0.25, -0.25, -0.25, -0.25, -0.25]\n",
    "\n",
    "velocity = 1\n",
    "print(angle_radians)\n",
    "print(x_coords_zero)"
   ]
  },
  {
   "cell_type": "code",
   "execution_count": 37,
   "metadata": {
    "collapsed": false
   },
   "outputs": [
    {
     "data": {
      "image/png": "[encoded data removed]"
     },
     "execution_count": 37,
     "metadata": {
     },
     "output_type": "execute_result"
    },
    {
     "name": "stdout",
     "output_type": "stream",
     "text": [
      "  Angle (radians) Impact Factors\n",
      "0               0              0\n",
      "1          0.7854              0\n",
      "2          1.5708              0\n",
      "3               0           0.25\n",
      "4          0.7854           0.25\n",
      "5          1.5708           0.25\n"
     ]
    },
    {
     "name": "stderr",
     "output_type": "stream",
     "text": [
      "/projects/anaconda38/envs/py36new/lib/python3.6/site-packages/numpy/core/_asarray.py:136: VisibleDeprecationWarning: Creating an ndarray from ragged nested sequences (which is a list-or-tuple of lists-or-tuples-or ndarrays with different lengths or shapes) is deprecated. If you meant to do this, you must specify 'dtype=object' when creating the ndarray\n",
      "  return array(a, dtype, copy=False, order=order, subok=True)\n"
     ]
    }
   ],
   "source": [
    "# Initialize a list to store transit coordinates\n",
    "transits = []\n",
    "\n",
    "# Function to generate a transit with at least two points\n",
    "def generate_transit(b_value, angle, x_coords, y_coords):\n",
    "    transit = []\n",
    "    \n",
    "    # Generate a random angle between 0 and π (0 to 180 degrees)\n",
    "    angle = angle\n",
    "\n",
    "    # Generate random y-coordinates within the transit and filter out points outside the unit circle\n",
    "    for i in range(len(x_coords)):\n",
    "        y_coord = y_coords[i]  # Add 0.25 to each y-coordinate\n",
    "        x_coord = x_coords[i]\n",
    "\n",
    "        # Check if the point is within the unit circle\n",
    "        if x_coord**2 + y_coord**2 <= 1:\n",
    "            transit.append((x_coord, y_coord))\n",
    "    \n",
    "    # Check if the transit has at least two points\n",
    "    min_points_per_transit = 2\n",
    "    if len(transit) >= min_points_per_transit:\n",
    "        \n",
    "        # Rotate the transit points by the angle\n",
    "        x_coords, y_coords = zip(*transit)\n",
    "        x_rotated = [x * np.cos(angle) - y * np.sin(angle) for x, y in zip(x_coords, y_coords)]\n",
    "        y_rotated = [x * np.sin(angle) + y * np.cos(angle) for x, y in zip(x_coords, y_coords)]\n",
    "        \n",
    "        transit = list(zip(x_rotated, y_rotated))\n",
    "        \n",
    "        return angle, b_value, transit\n",
    "    else:\n",
    "        # If not, regenerate the transit\n",
    "        return generate_transit(b_value, x, y, x_coords, y_coords)\n",
    "\n",
    "# Generate and append transits with at least two points and \"vel_eq\" values\n",
    "for angle in range(len(angle_degrees)):\n",
    "    angle, b_value, transit = generate_transit(impact_factor_1, angle_radians[angle], x_coords_zero, y_coords_zero)\n",
    "    transits.append((angle, b_value, transit))\n",
    "for angle in range(len(angle_degrees)):\n",
    "    angle, b_value, transit = generate_transit(impact_factor_2, angle_radians[angle], x_coords_zero, y_coords_offset)\n",
    "    transits.append((angle, b_value, transit))\n",
    "\n",
    "# Plot the transits on the stellar surface\n",
    "fig, ax = plt.subplots(figsize=(6, 6))\n",
    "stellar_surface = plt.Circle((0, 0), 1, fill=False, color='b', linestyle='dotted')\n",
    "ax.add_artist(stellar_surface)\n",
    "\n",
    "for angle, _, transit in transits:\n",
    "    transit = np.array(transit)\n",
    "    x_coords, y_coords = transit[:, 0], transit[:, 1]\n",
    "    plt.plot(x_coords, y_coords, marker='o')\n",
    "\n",
    "plt.xlim(-1.5, 1.5)\n",
    "plt.ylim(-1.5, 1.5)\n",
    "plt.gca().set_aspect('equal', adjustable='box')\n",
    "plt.title(f'{number_of_transits} Transits with at Least Two Points Each on the Stellar Surface (Random Impact Factors, Angles, and vel_eq)')\n",
    "plt.xlabel('X-axis')\n",
    "plt.ylabel('Y-axis')\n",
    "plt.grid(True)\n",
    "plt.show()\n",
    "\n",
    "# Save the transit information to a NumPy file\n",
    "np.savez(f\"systematic_transit_data.npz\", transits=transits)\n",
    "\n",
    "# Load the previously created NumPy file\n",
    "data = np.load(f\"systematic_transit_data.npz\", allow_pickle=True)\n",
    "\n",
    "# Extract the transit information\n",
    "transits = data['transits']\n",
    "\n",
    "# Create a DataFrame for analysis\n",
    "df = pd.DataFrame(transits, columns=['Angle (radians)', 'Impact Factors', 'Coordinates'])\n",
    "\n",
    "# Drop the coordinates and vel_eq columns\n",
    "df.drop(columns=['Coordinates'], inplace=True)\n",
    "\n",
    "# Display the statistics\n",
    "print(df)"
   ]
  },
  {
   "cell_type": "code",
   "execution_count": 0,
   "metadata": {
    "collapsed": false
   },
   "outputs": [
   ],
   "source": [
   ]
  }
 ],
 "metadata": {
  "kernelspec": {
   "display_name": "Python 3.6(py36new)",
   "language": "python",
   "name": "py36new"
  },
  "language_info": {
   "codemirror_mode": {
    "name": "ipython",
    "version": 3
   },
   "file_extension": ".py",
   "mimetype": "text/x-python",
   "name": "python",
   "nbconvert_exporter": "python",
   "pygments_lexer": "ipython3",
   "version": "3.6.11"
  }
 },
 "nbformat": 4,
 "nbformat_minor": 0
}