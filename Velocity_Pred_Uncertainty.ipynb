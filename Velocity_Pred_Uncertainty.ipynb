{
 "cells": [
  {
   "cell_type": "code",
   "execution_count": 1,
   "metadata": {
    "collapsed": false
   },
   "outputs": [
   ],
   "source": [
    "import matplotlib.pyplot as plt\n",
    "import numpy as np\n",
    "import os\n",
    "import itertools\n",
    "import keras"
   ]
  },
  {
   "cell_type": "code",
   "execution_count": 2,
   "metadata": {
    "collapsed": false
   },
   "outputs": [
   ],
   "source": [
    "mod_dir = '/projects/eb7fd651-8ca7-45f4-8470-34087f434ad6/Code/Final_Build/Velocity_Regression_Model'\n",
    "classifier_dir = f'{mod_dir}/Classifier_Models/Noise'"
   ]
  },
  {
   "cell_type": "code",
   "execution_count": 3,
   "metadata": {
    "collapsed": false
   },
   "outputs": [
   ],
   "source": [
    "observer_angle = [0, 45]\n",
    "target_b = [0.0, 0.25]\n",
    "target_lambda = [0.0, 0.7854, 1.5708]\n",
    "target_vel = [5.0, 10.0, 15.0, 20.0, 25.0, 30.0, 35.0, 40.0, 45.0, 50.0]"
   ]
  },
  {
   "cell_type": "code",
   "execution_count": 4,
   "metadata": {
    "collapsed": false
   },
   "outputs": [
    {
     "name": "stdout",
     "output_type": "stream",
     "text": [
      "[0.047499656677246094, 0.05005788803100586, 0.016347885131835938, 0.0033426284790039062, 0.09622955322265625, 0.11082744598388672, 0.05118751525878906, 0.09652137756347656, 0.06284332275390625, 0.07309150695800781, 0.04936981201171875, 0.03936576843261719, 0.002986907958984375, 0.061687469482421875, 0.054409027099609375, 0.042354583740234375, 0.19353103637695312, 0.11423873901367188, 0.6369056701660156, 0.5380325317382812, 0.047102928161621094, 0.04507255554199219, 0.012215614318847656, 0.008454322814941406, 0.11382484436035156, 0.13481426239013672, 0.0935211181640625, 0.09410858154296875, 0.07269096374511719, 0.06794357299804688, 0.04319572448730469, 0.08677101135253906, 0.0177001953125, 0.023128509521484375, 0.17574310302734375, 7.62939453125e-06, 0.0096435546875, 0.044681549072265625, 0.5444068908691406, 0.5645179748535156, 0.053745269775390625, 0.04689741134643555, 0.0007534027099609375, 0.019079208374023438, 0.12406444549560547, 0.1328716278076172, 0.10327529907226562, 0.079925537109375, 0.11399078369140625, 0.10108375549316406, 0.021615982055664062, 0.02410888671875, 0.004058837890625, 0.022274017333984375, 0.002605438232421875, 0.056812286376953125, 0.08238601684570312, 0.15100860595703125, 0.5252189636230469, 0.5204010009765625, 0.05264091491699219, 0.05314970016479492, 0.018201828002929688, 0.0019598007202148438, 0.11902809143066406, 0.11160755157470703, 0.06701087951660156, 0.09617996215820312, 0.08884048461914062, 0.07826805114746094, 0.049274444580078125, 0.058864593505859375, 0.06298828125, 0.000621795654296875, 0.08403396606445312, 0.07862472534179688, 0.061923980712890625, 0.19200515747070312, 0.6275825500488281, 0.5409736633300781, 0.054524898529052734, 0.0526275634765625, 0.013784408569335938, 0.0033769607543945312, 0.10976314544677734, 0.12605857849121094, 0.10935020446777344, 0.09797096252441406, 0.09889984130859375, 0.08093643188476562, 0.04860687255859375, 0.07868576049804688, 0.031864166259765625, 0.01395416259765625, 0.11623382568359375, 0.073516845703125, 0.05780792236328125, 0.18274688720703125, 0.6459541320800781, 0.569183349609375, 0.04536914825439453, 0.045693397521972656, 0.009095191955566406, 0.005923271179199219, 0.10592079162597656, 0.11696147918701172, 0.07045936584472656, 0.11408042907714844, 0.09069061279296875, 0.1217498779296875, 0.08169364929199219, 0.07734870910644531, 0.049724578857421875, 0.01219940185546875, 0.02422332763671875, 0.06396484375, 0.12533950805664062, 0.1402740478515625, 0.5858917236328125, 0.5312767028808594]\n"
     ]
    }
   ],
   "source": [
    "# Initialize the sigma array\n",
    "sigma = []\n",
    "\n",
    "# Load the classifier model\n",
    "classifier_model = keras.models.load_model(classifier_dir)\n",
    "\n",
    "# Iterate over all combinations of target_b, target_lambda, target_vel, and observer_angle\n",
    "for b, lambd, vel, angle in itertools.product(target_b, target_lambda, target_vel, observer_angle):\n",
    "    # Convert values to strings for directory paths\n",
    "    b_str = str(b).replace('.', '_')\n",
    "    lambda_str = str(lambd).replace('.', '_')\n",
    "    vel_str = str(vel).replace('.', '_')\n",
    "    angle_str = str(angle).replace('.', '_')\n",
    "    \n",
    "    # Define the working directory\n",
    "    working_dir = f'/projects/eb7fd651-8ca7-45f4-8470-34087f434ad6/Code/Final_Build/{angle_str}_deg/{vel_str}'\n",
    "    \n",
    "    # Define the profile paths\n",
    "    raw_profiles_path = f\"{working_dir}/{vel_str}_km_s_{lambda_str}_rad_{b_str}_b_6_pts_noise_raw_profiles.npy\"\n",
    "    oot_profile_path = f\"{working_dir}/{vel_str}_km_s_{lambda_str}_rad_{b_str}_b_6_pts_noise_oot_profile.npy\"\n",
    "    oot_sub_profiles_path = f\"{working_dir}/{vel_str}_km_s_{lambda_str}_rad_{b_str}_b_6_pts_noise_oots_profiles.npy\"\n",
    "    \n",
    "    # Check if the required files exist\n",
    "    if os.path.exists(raw_profiles_path) and os.path.exists(oot_profile_path) and os.path.exists(oot_sub_profiles_path):\n",
    "        # Load the OOT profile\n",
    "        oot_profile = np.load(oot_profile_path)\n",
    "\n",
    "        # Make the velocity prediction\n",
    "        velocity_prediction = classifier_model.predict(np.expand_dims(oot_profile, axis=0))[0][0]\n",
    "\n",
    "        # Calculate the absolute difference and store in sigma\n",
    "        sigma.append(abs(velocity_prediction - vel))\n",
    "\n",
    "# Print or save the sigma array\n",
    "print(sigma)\n",
    "# You can also save sigma to a file if needed\n",
    "np.save('sigma.npy', sigma)"
   ]
  },
  {
   "cell_type": "code",
   "execution_count": 5,
   "metadata": {
    "collapsed": false
   },
   "outputs": [
    {
     "name": "stdout",
     "output_type": "stream",
     "text": [
      "120\n"
     ]
    }
   ],
   "source": [
    "print(len(sigma))"
   ]
  },
  {
   "cell_type": "code",
   "execution_count": 11,
   "metadata": {
    "collapsed": false
   },
   "outputs": [
    {
     "name": "stdout",
     "output_type": "stream",
     "text": [
      "1 sigma value: 0.16 km/s\n"
     ]
    }
   ],
   "source": [
    "one_sigma_km_s = np.std(sigma)\n",
    "one_sigma_km_s_rounded = round(one_sigma_km_s, 2)\n",
    "print(f\"1 sigma value: {one_sigma_km_s_rounded} km/s\")"
   ]
  },
  {
   "cell_type": "code",
   "execution_count": 0,
   "metadata": {
    "collapsed": false
   },
   "outputs": [
   ],
   "source": [
   ]
  }
 ],
 "metadata": {
  "kernelspec": {
   "display_name": "Python 3.6(py36new)",
   "language": "python",
   "name": "py36new"
  },
  "language_info": {
   "codemirror_mode": {
    "name": "ipython",
    "version": 3
   },
   "file_extension": ".py",
   "mimetype": "text/x-python",
   "name": "python",
   "nbconvert_exporter": "python",
   "pygments_lexer": "ipython3",
   "version": "3.6.11"
  }
 },
 "nbformat": 4,
 "nbformat_minor": 0
}