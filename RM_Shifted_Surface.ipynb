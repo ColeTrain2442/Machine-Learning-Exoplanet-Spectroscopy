{
 "cells": [
  {
   "cell_type": "code",
   "execution_count": 7,
   "metadata": {
    "collapsed": false
   },
   "outputs": [
   ],
   "source": [
    "import matplotlib.pyplot as plt\n",
    "import numpy as np\n",
    "import time"
   ]
  },
  {
   "cell_type": "code",
   "execution_count": 34,
   "metadata": {
    "collapsed": false
   },
   "outputs": [
    {
     "data": {
      "image/png": "[encoded data removed]"
     },
     "execution_count": 34,
     "metadata": {
     },
     "output_type": "execute_result"
    }
   ],
   "source": [
    "# Constants\n",
    "nVelocity = 401\n",
    "minx = -100\n",
    "maxx = 100\n",
    "mc_value = 60000\n",
    "x_p = 5\n",
    "y_p = 5\n",
    "profiles = 10\n",
    "vel_eq = 25\n",
    "observer_angle = 45\n",
    "\n",
    "# Definition of the gaussian profile\n",
    "def gaussian_fct(x, amp, cen, sigma):\n",
    "    return amp * (np.exp((-1.0 / 2.0) * (((x - cen) / sigma) ** 2)))\n",
    "\n",
    "# Velocity shift\n",
    "def shift_profile_velocity(x, y, velocity):\n",
    "    shift = velocity\n",
    "    xshifted = x + shift\n",
    "    yshifted = np.interp(x, xshifted, y)\n",
    "    return yshifted\n",
    "\n",
    "# Limb darkening\n",
    "def limb_dark(eps, radius):\n",
    "    ld = 1.0 - eps + eps * np.cos(np.arcsin(radius))\n",
    "    return ld\n",
    "\n",
    "# Projected rotational velocity\n",
    "def proj_vel(vel_eq, x_comp, observer_angle):\n",
    "    pv = vel_eq * x_comp * np.cos(np.radians(observer_angle))\n",
    "    return pv\n",
    "\n",
    "# MC integration\n",
    "def mc_discIntegrate(x_p, y_p, vel_eq, nVelocity, minx, maxx, n_mc):\n",
    "    r_s, r_p = 1.0, 0.156\n",
    "    x_p, y_p = x_p, y_p\n",
    "    vel_eq, eps = vel_eq, 0.7\n",
    "    n_mc = n_mc\n",
    "    r_act = r_s\n",
    "\n",
    "    amplitude = 0.9\n",
    "    center = 0.0\n",
    "    sigma = 5.0\n",
    "\n",
    "    n_out = 0\n",
    "    checkflux1 = 0.0\n",
    "    checkflux2 = 0.0\n",
    "\n",
    "    velocityArray = np.linspace(minx, maxx, nVelocity)\n",
    "    flux_profile = np.zeros([nVelocity])\n",
    "    flux = 0.0\n",
    "    int_profile = gaussian_fct(velocityArray, amplitude, center, sigma)\n",
    "\n",
    "    x_array_mc = np.zeros([n_mc])\n",
    "    y_array_mc = np.zeros([n_mc])\n",
    "    r_array_mc = np.zeros([n_mc])\n",
    "\n",
    "    # Vectorized version\n",
    "    theta_mc = np.random.uniform(0, 2. * np.pi, n_mc)\n",
    "    r_mc = np.random.uniform(0, r_act, n_mc)\n",
    "\n",
    "    for i in range(n_mc):\n",
    "        x_mc = np.sqrt(r_mc[i]) * np.cos(theta_mc[i])\n",
    "        y_mc = np.sqrt(r_mc[i]) * np.sin(theta_mc[i])\n",
    "        check_planet = (np.abs(x_mc - x_p)) ** 2 + (np.abs(y_mc - y_p) ** 2) > r_p ** 2\n",
    "\n",
    "        if check_planet:\n",
    "            x_array_mc[i] = x_mc\n",
    "            y_array_mc[i] = y_mc\n",
    "            r_array_mc[i] = np.sqrt(x_mc ** 2 + y_mc ** 2)\n",
    "            pv = proj_vel(vel_eq, x_mc, observer_angle)\n",
    "            ld = limb_dark(eps, r_array_mc[i])\n",
    "            local_profile = shift_profile_velocity(velocityArray, int_profile, pv)\n",
    "            local_profile = local_profile * ld\n",
    "            flux_profile = flux_profile + local_profile\n",
    "            flux = flux + ld\n",
    "            n_out = n_out + 1\n",
    "\n",
    "    flux = flux * (r_s ** 2) / (r_act ** 2)\n",
    "    flux_profile = flux_profile / flux\n",
    "\n",
    "    return flux_profile, flux\n",
    "\n",
    "# Create a grid for the stellar surface\n",
    "grid_size = 100\n",
    "x_grid = np.linspace(-1, 1, grid_size)\n",
    "y_grid = np.linspace(-1, 1, grid_size)\n",
    "x_grid, y_grid = np.meshgrid(x_grid, y_grid)\n",
    "z_grid = np.zeros_like(x_grid)\n",
    "\n",
    "# Iterate over the grid and calculate the profiles\n",
    "for i in range(grid_size):\n",
    "    for j in range(grid_size):\n",
    "        x_p = x_grid[i, j]\n",
    "        y_p = y_grid[i, j]\n",
    "        # Skip points outside the stellar radius\n",
    "        if x_p**2 + y_p**2 <= 1.0:\n",
    "            try:\n",
    "                flux_profile, flux = mc_discIntegrate(x_p, y_p, vel_eq, nVelocity, minx, maxx, mc_value)\n",
    "                # Calculate the mean velocity shift for coloring\n",
    "                mean_velocity_shift = np.mean(velocityArray - flux_profile)\n",
    "                z_grid[i, j] = mean_velocity_shift\n",
    "            except Exception as e:\n",
    "                print(f\"Error at grid point ({i}, {j}): {str(e)}\")\n",
    "        else:\n",
    "            z_grid[i, j] = np.nan  # Mark outside points with NaN\n",
    "\n",
    "# Plot the stellar surface with color coding\n",
    "plt.figure(figsize=(8, 8))\n",
    "plt.imshow(z_grid, extent=(-1, 1, -1, 1), origin='lower', cmap='coolwarm')\n",
    "plt.colorbar(label='Velocity Shift [km/s]')\n",
    "plt.xlabel('X Position')\n",
    "plt.ylabel('Y Position')\n",
    "plt.title('Color-Coded Stellar Surface')\n",
    "plt.show()"
   ]
  },
  {
   "cell_type": "code",
   "execution_count": 0,
   "metadata": {
    "collapsed": false
   },
   "outputs": [
   ],
   "source": [
   ]
  }
 ],
 "metadata": {
  "kernelspec": {
   "display_name": "Python 3.6(py36new)",
   "language": "python",
   "name": "py36new"
  },
  "language_info": {
   "codemirror_mode": {
    "name": "ipython",
    "version": 3
   },
   "file_extension": ".py",
   "mimetype": "text/x-python",
   "name": "python",
   "nbconvert_exporter": "python",
   "pygments_lexer": "ipython3",
   "version": "3.6.11"
  }
 },
 "nbformat": 4,
 "nbformat_minor": 0
}